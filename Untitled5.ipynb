{
  "nbformat": 4,
  "nbformat_minor": 0,
  "metadata": {
    "colab": {
      "provenance": []
    },
    "kernelspec": {
      "name": "python3",
      "display_name": "Python 3"
    },
    "language_info": {
      "name": "python"
    }
  },
  "cells": [
    {
      "cell_type": "code",
      "execution_count": 3,
      "metadata": {
        "colab": {
          "base_uri": "https://localhost:8080/",
          "height": 333
        },
        "id": "i_KZDD9gQFIR",
        "outputId": "134bf99f-0a66-4533-865e-a5370bb62405"
      },
      "outputs": [
        {
          "output_type": "execute_result",
          "data": {
            "text/html": [
              "<img src=\"https://cdnimg.vietnamplus.vn/t620/uploaded/fsmsy/2016_04_19/titanicsinkingunderwater.jpg\"/>"
            ],
            "text/plain": [
              "<IPython.core.display.Image object>"
            ]
          },
          "metadata": {},
          "execution_count": 3
        }
      ],
      "source": [
        "from IPython.display import Image\n",
        "Image(url= \"https://cdnimg.vietnamplus.vn/t620/uploaded/fsmsy/2016_04_19/titanicsinkingunderwater.jpg\")\n"
      ]
    },
    {
      "cell_type": "code",
      "source": [],
      "metadata": {
        "id": "uTmli4sJQ3zI"
      },
      "execution_count": null,
      "outputs": []
    }
  ]
}